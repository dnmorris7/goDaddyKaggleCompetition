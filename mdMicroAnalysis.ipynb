{
 "cells": [
  {
   "cell_type": "code",
   "execution_count": 2,
   "metadata": {},
   "outputs": [
    {
     "name": "stdout",
     "output_type": "stream",
     "text": [
      "      cbsa     city_name                    micro_metro  total_pop_20  \\\n",
      "0  10100.0  Aberdeen, SD  Micropolitan Statistical Area       42864.0   \n",
      "1  10140.0  Aberdeen, WA  Micropolitan Statistical Area       73769.0   \n",
      "2  10180.0   Abilene, TX  Metropolitan Statistical Area      171354.0   \n",
      "3  10220.0       Ada, OK  Micropolitan Statistical Area       38385.0   \n",
      "4  10300.0    Adrian, MI  Micropolitan Statistical Area       98310.0   \n",
      "\n",
      "   activeaug19  activesep19  activeoct19  activenov19  activedec19  \\\n",
      "0          931          928          970          971          933   \n",
      "1         2282         2289         2308         2304         2287   \n",
      "2         4846         4834         4855         4826         4838   \n",
      "3         1230         1216         1224         1223         1221   \n",
      "4         5622         5792         5801         5799         5831   \n",
      "\n",
      "   activejan20  ...   mdsep21   mdoct21   mdnov21   mddec21   mdjan22  \\\n",
      "0          934  ...  1.378673  1.449202  1.442485  1.439127  1.434653   \n",
      "1         2331  ...  2.792293  2.815263  2.790858  2.726255  2.589748   \n",
      "2         5037  ...  2.326110  2.319005  2.324216  2.319953  2.326080   \n",
      "3         1237  ...  1.879739  1.886759  1.895535  1.904311  1.924632   \n",
      "4         5852  ...  4.543527  4.534382  4.548516  4.592579  4.562569   \n",
      "\n",
      "    mdfeb22   mdmar22   mdapr22   mdmay22   mdjun22  \n",
      "0  1.438005  1.434653  1.541588  1.544946  1.325443  \n",
      "1  2.585528  2.582714  3.034267  3.096163  2.932984  \n",
      "2  2.354674  2.354674  2.553133  2.551703  2.186111  \n",
      "3  1.935178  1.922874  2.100397  2.109186  1.980877  \n",
      "4  4.580694  4.589756  4.944842  4.971206  4.810552  \n",
      "\n",
      "[5 rows x 74 columns]\n",
      "   city_id       city state_abbrev  pop_18over_2020  activeaug19  activesep19  \\\n",
      "0        1  Abbeville           LA            37706          264          269   \n",
      "1        2   Aberdeen           NC            10076          364          361   \n",
      "2        3   Aberdeen           SD            50386          751          746   \n",
      "3        4   Aberdeen           MD            19176          688          667   \n",
      "4        5   Aberdeen           WA            19342          549          550   \n",
      "\n",
      "   activeoct19  activenov19  activedec19  activejan20  ...   mdsep21  \\\n",
      "0          265          269          277          275  ...  0.652416   \n",
      "1          360          360          356          388  ...  3.552997   \n",
      "2          792          794          758          760  ...  1.329734   \n",
      "3          662          665          665          677  ...  3.233208   \n",
      "4          551          549          550          548  ...  1.918106   \n",
      "\n",
      "    mdoct21   mdnov21   mddec21   mdjan22   mdfeb22   mdmar22   mdapr22  \\\n",
      "0  0.652416  0.657720  0.657720  0.750544  0.750544  0.729327  0.944147   \n",
      "1  3.334657  3.423978  3.354506  3.384279  3.354506  3.364430  3.771338   \n",
      "2  1.401183  1.393244  1.387290  1.389275  1.395229  1.391259  1.474616   \n",
      "3  3.238423  3.196704  3.149770  3.139341  3.113266  3.097622  3.634752   \n",
      "4  2.000827  2.052528  2.042188  2.078379  2.078379  2.099059  2.357564   \n",
      "\n",
      "    mdmay22   mdjun22  \n",
      "0  0.944147  0.957407  \n",
      "1  3.900357  4.138547  \n",
      "2  1.474616  1.208669  \n",
      "3  3.660826  3.551314  \n",
      "4  2.404095  1.974977  \n",
      "\n",
      "[5 rows x 74 columns]\n",
      "    cfips   county state  total_pop_20  activeaug19  activesep19  activeoct19  \\\n",
      "0  1001.0  Autauga    AL       55639.0          222          219          220   \n",
      "1  1003.0  Baldwin    AL      218289.0        11837        12053        12061   \n",
      "2  1005.0  Barbour    AL       25026.0           92          124           96   \n",
      "3  1007.0     Bibb    AL       22374.0           41           39           41   \n",
      "4  1009.0   Blount    AL       57755.0           68           69           69   \n",
      "\n",
      "   activenov19  activedec19  activejan20  ...   mdsep21   mdoct21   mdnov21  \\\n",
      "0          221          221          225  ...  0.464730  0.467101  0.481328   \n",
      "1        12128        12335        12324  ...  7.293136  7.310543  7.332753   \n",
      "2           96           95           95  ...  0.453775  0.453775  0.448788   \n",
      "3           40           40           42  ...  0.279924  0.268727  0.229538   \n",
      "4           68           69           68  ...  0.124176  0.121918  0.124176   \n",
      "\n",
      "    mddec21   mdjan22   mdfeb22   mdmar22   mdapr22   mdmay22   mdjun22  \n",
      "0  0.497925  2.567301  2.562594  2.564947  3.261483  3.289721  3.748588  \n",
      "1  7.336955  6.991991  7.035191  7.025266  7.804035  8.400663  8.157225  \n",
      "2  0.463748  1.060392  1.050293  1.040194  1.161382  1.156332  1.070491  \n",
      "3  0.223939  1.163575  1.191681  1.152333  1.247892  1.275998  1.062395  \n",
      "4  0.126434  1.487056  1.489309  1.448753  1.710114  1.725886  1.712367  \n",
      "\n",
      "[5 rows x 74 columns]\n",
      "  state_abbrev  fips  total_pop_20  activeaug19  activesep19  activeoct19  \\\n",
      "0           AK     2        733391        29174        29180        29345   \n",
      "1           AL     1       5024279       145854       146316       147512   \n",
      "2           AR     5       3011524        83070        82540        82384   \n",
      "3           AZ     4       7151502       569127       569494       571381   \n",
      "4           CA     6      39538224      3385120      3399802      3424976   \n",
      "\n",
      "   activenov19  activedec19  activejan20  activefeb20  ...   mdsep21  \\\n",
      "0        29242        29141        29095        28715  ...  3.511906   \n",
      "1       147609       146887       147015       145006  ...  2.678414   \n",
      "2        81972        81448        80970        78620  ...  2.317830   \n",
      "3       569939       569321       569190       559235  ...  7.351449   \n",
      "4      3420895      3416147      3430081      3375584  ...  8.227112   \n",
      "\n",
      "    mdoct21   mdnov21   mddec21   mdjan22   mdfeb22   mdmar22   mdapr22  \\\n",
      "0  3.511224  3.560038  3.542312  3.541358  3.543812  3.537949  3.940736   \n",
      "1  2.693202  2.647464  2.620973  2.613848  2.611619  2.597726  2.958216   \n",
      "2  2.317099  2.310226  2.304182  2.295981  2.299699  2.296678  2.649522   \n",
      "3  7.385749  7.410136  7.374409  7.339409  7.331103  7.318015  8.145785   \n",
      "4  8.272671  8.293314  8.290021  8.253360  8.281816  8.254058  8.290274   \n",
      "\n",
      "    mdmay22   mdjun22  \n",
      "0  3.912101  4.118267  \n",
      "1  2.993544  2.946333  \n",
      "2  2.660912  2.538482  \n",
      "3  8.164243  8.495600  \n",
      "4  8.363163  8.886565  \n",
      "\n",
      "[5 rows x 73 columns]\n"
     ]
    }
   ],
   "source": [
    "import pandas as pd\n",
    "\n",
    "# Read the data\n",
    "cbsas = pd.read_csv('C:/Users/David/Desktop/DevOps2019/2023/python/goDaddy/data/VF_md_bundle_Q222/VF_md_cbsas_Q222.csv')\n",
    "cities = pd.read_csv('C:/Users/David/Desktop/DevOps2019/2023/python/goDaddy/data/VF_md_bundle_Q222/VF_md_cities_Q222.csv')\n",
    "counties= pd.read_csv('C:/Users/David/Desktop/DevOps2019/2023/python/goDaddy/data/VF_md_bundle_Q222/VF_md_counties_Q222.csv')\n",
    "states = pd.read_csv('C:/Users/David/Desktop/DevOps2019/2023/python/goDaddy/data/VF_md_bundle_Q222/VF_md_states_Q222.csv')\n",
    "print(cbsas.head())\n"
   ]
  },
  {
   "cell_type": "code",
   "execution_count": 3,
   "metadata": {},
   "outputs": [
    {
     "name": "stdout",
     "output_type": "stream",
     "text": [
      "   city_id       city state_abbrev  pop_18over_2020  activeaug19  activesep19  \\\n",
      "0        1  Abbeville           LA            37706          264          269   \n",
      "1        2   Aberdeen           NC            10076          364          361   \n",
      "2        3   Aberdeen           SD            50386          751          746   \n",
      "3        4   Aberdeen           MD            19176          688          667   \n",
      "4        5   Aberdeen           WA            19342          549          550   \n",
      "\n",
      "   activeoct19  activenov19  activedec19  activejan20  ...   mdsep21  \\\n",
      "0          265          269          277          275  ...  0.652416   \n",
      "1          360          360          356          388  ...  3.552997   \n",
      "2          792          794          758          760  ...  1.329734   \n",
      "3          662          665          665          677  ...  3.233208   \n",
      "4          551          549          550          548  ...  1.918106   \n",
      "\n",
      "    mdoct21   mdnov21   mddec21   mdjan22   mdfeb22   mdmar22   mdapr22  \\\n",
      "0  0.652416  0.657720  0.657720  0.750544  0.750544  0.729327  0.944147   \n",
      "1  3.334657  3.423978  3.354506  3.384279  3.354506  3.364430  3.771338   \n",
      "2  1.401183  1.393244  1.387290  1.389275  1.395229  1.391259  1.474616   \n",
      "3  3.238423  3.196704  3.149770  3.139341  3.113266  3.097622  3.634752   \n",
      "4  2.000827  2.052528  2.042188  2.078379  2.078379  2.099059  2.357564   \n",
      "\n",
      "    mdmay22   mdjun22  \n",
      "0  0.944147  0.957407  \n",
      "1  3.900357  4.138547  \n",
      "2  1.474616  1.208669  \n",
      "3  3.660826  3.551314  \n",
      "4  2.404095  1.974977  \n",
      "\n",
      "[5 rows x 74 columns]\n",
      "    cfips   county state  total_pop_20  activeaug19  activesep19  activeoct19  \\\n",
      "0  1001.0  Autauga    AL       55639.0          222          219          220   \n",
      "1  1003.0  Baldwin    AL      218289.0        11837        12053        12061   \n",
      "2  1005.0  Barbour    AL       25026.0           92          124           96   \n",
      "3  1007.0     Bibb    AL       22374.0           41           39           41   \n",
      "4  1009.0   Blount    AL       57755.0           68           69           69   \n",
      "\n",
      "   activenov19  activedec19  activejan20  ...   mdsep21   mdoct21   mdnov21  \\\n",
      "0          221          221          225  ...  0.464730  0.467101  0.481328   \n",
      "1        12128        12335        12324  ...  7.293136  7.310543  7.332753   \n",
      "2           96           95           95  ...  0.453775  0.453775  0.448788   \n",
      "3           40           40           42  ...  0.279924  0.268727  0.229538   \n",
      "4           68           69           68  ...  0.124176  0.121918  0.124176   \n",
      "\n",
      "    mddec21   mdjan22   mdfeb22   mdmar22   mdapr22   mdmay22   mdjun22  \n",
      "0  0.497925  2.567301  2.562594  2.564947  3.261483  3.289721  3.748588  \n",
      "1  7.336955  6.991991  7.035191  7.025266  7.804035  8.400663  8.157225  \n",
      "2  0.463748  1.060392  1.050293  1.040194  1.161382  1.156332  1.070491  \n",
      "3  0.223939  1.163575  1.191681  1.152333  1.247892  1.275998  1.062395  \n",
      "4  0.126434  1.487056  1.489309  1.448753  1.710114  1.725886  1.712367  \n",
      "\n",
      "[5 rows x 74 columns]\n",
      "  state_abbrev  fips  total_pop_20  activeaug19  activesep19  activeoct19  \\\n",
      "0           AK     2        733391        29174        29180        29345   \n",
      "1           AL     1       5024279       145854       146316       147512   \n",
      "2           AR     5       3011524        83070        82540        82384   \n",
      "3           AZ     4       7151502       569127       569494       571381   \n",
      "4           CA     6      39538224      3385120      3399802      3424976   \n",
      "\n",
      "   activenov19  activedec19  activejan20  activefeb20  ...   mdsep21  \\\n",
      "0        29242        29141        29095        28715  ...  3.511906   \n",
      "1       147609       146887       147015       145006  ...  2.678414   \n",
      "2        81972        81448        80970        78620  ...  2.317830   \n",
      "3       569939       569321       569190       559235  ...  7.351449   \n",
      "4      3420895      3416147      3430081      3375584  ...  8.227112   \n",
      "\n",
      "    mdoct21   mdnov21   mddec21   mdjan22   mdfeb22   mdmar22   mdapr22  \\\n",
      "0  3.511224  3.560038  3.542312  3.541358  3.543812  3.537949  3.940736   \n",
      "1  2.693202  2.647464  2.620973  2.613848  2.611619  2.597726  2.958216   \n",
      "2  2.317099  2.310226  2.304182  2.295981  2.299699  2.296678  2.649522   \n",
      "3  7.385749  7.410136  7.374409  7.339409  7.331103  7.318015  8.145785   \n",
      "4  8.272671  8.293314  8.290021  8.253360  8.281816  8.254058  8.290274   \n",
      "\n",
      "    mdmay22   mdjun22  \n",
      "0  3.912101  4.118267  \n",
      "1  2.993544  2.946333  \n",
      "2  2.660912  2.538482  \n",
      "3  8.164243  8.495600  \n",
      "4  8.363163  8.886565  \n",
      "\n",
      "[5 rows x 73 columns]\n"
     ]
    }
   ],
   "source": [
    "print(cities.head())\n"
   ]
  },
  {
   "cell_type": "code",
   "execution_count": 4,
   "metadata": {},
   "outputs": [
    {
     "name": "stdout",
     "output_type": "stream",
     "text": [
      "    cfips   county state  total_pop_20  activeaug19  activesep19  activeoct19  \\\n",
      "0  1001.0  Autauga    AL       55639.0          222          219          220   \n",
      "1  1003.0  Baldwin    AL      218289.0        11837        12053        12061   \n",
      "2  1005.0  Barbour    AL       25026.0           92          124           96   \n",
      "3  1007.0     Bibb    AL       22374.0           41           39           41   \n",
      "4  1009.0   Blount    AL       57755.0           68           69           69   \n",
      "\n",
      "   activenov19  activedec19  activejan20  ...   mdsep21   mdoct21   mdnov21  \\\n",
      "0          221          221          225  ...  0.464730  0.467101  0.481328   \n",
      "1        12128        12335        12324  ...  7.293136  7.310543  7.332753   \n",
      "2           96           95           95  ...  0.453775  0.453775  0.448788   \n",
      "3           40           40           42  ...  0.279924  0.268727  0.229538   \n",
      "4           68           69           68  ...  0.124176  0.121918  0.124176   \n",
      "\n",
      "    mddec21   mdjan22   mdfeb22   mdmar22   mdapr22   mdmay22   mdjun22  \n",
      "0  0.497925  2.567301  2.562594  2.564947  3.261483  3.289721  3.748588  \n",
      "1  7.336955  6.991991  7.035191  7.025266  7.804035  8.400663  8.157225  \n",
      "2  0.463748  1.060392  1.050293  1.040194  1.161382  1.156332  1.070491  \n",
      "3  0.223939  1.163575  1.191681  1.152333  1.247892  1.275998  1.062395  \n",
      "4  0.126434  1.487056  1.489309  1.448753  1.710114  1.725886  1.712367  \n",
      "\n",
      "[5 rows x 74 columns]\n"
     ]
    }
   ],
   "source": [
    "print(counties.head())\n"
   ]
  },
  {
   "cell_type": "code",
   "execution_count": 5,
   "metadata": {},
   "outputs": [
    {
     "name": "stdout",
     "output_type": "stream",
     "text": [
      "  state_abbrev  fips  total_pop_20  activeaug19  activesep19  activeoct19  \\\n",
      "0           AK     2        733391        29174        29180        29345   \n",
      "1           AL     1       5024279       145854       146316       147512   \n",
      "2           AR     5       3011524        83070        82540        82384   \n",
      "3           AZ     4       7151502       569127       569494       571381   \n",
      "4           CA     6      39538224      3385120      3399802      3424976   \n",
      "\n",
      "   activenov19  activedec19  activejan20  activefeb20  ...   mdsep21  \\\n",
      "0        29242        29141        29095        28715  ...  3.511906   \n",
      "1       147609       146887       147015       145006  ...  2.678414   \n",
      "2        81972        81448        80970        78620  ...  2.317830   \n",
      "3       569939       569321       569190       559235  ...  7.351449   \n",
      "4      3420895      3416147      3430081      3375584  ...  8.227112   \n",
      "\n",
      "    mdoct21   mdnov21   mddec21   mdjan22   mdfeb22   mdmar22   mdapr22  \\\n",
      "0  3.511224  3.560038  3.542312  3.541358  3.543812  3.537949  3.940736   \n",
      "1  2.693202  2.647464  2.620973  2.613848  2.611619  2.597726  2.958216   \n",
      "2  2.317099  2.310226  2.304182  2.295981  2.299699  2.296678  2.649522   \n",
      "3  7.385749  7.410136  7.374409  7.339409  7.331103  7.318015  8.145785   \n",
      "4  8.272671  8.293314  8.290021  8.253360  8.281816  8.254058  8.290274   \n",
      "\n",
      "    mdmay22   mdjun22  \n",
      "0  3.912101  4.118267  \n",
      "1  2.993544  2.946333  \n",
      "2  2.660912  2.538482  \n",
      "3  8.164243  8.495600  \n",
      "4  8.363163  8.886565  \n",
      "\n",
      "[5 rows x 73 columns]\n"
     ]
    }
   ],
   "source": [
    "print(states.head())"
   ]
  },
  {
   "cell_type": "code",
   "execution_count": 6,
   "metadata": {},
   "outputs": [
    {
     "name": "stdout",
     "output_type": "stream",
     "text": [
      "Index(['cbsa', 'city_name', 'micro_metro', 'total_pop_20', 'activeaug19',\n",
      "       'activesep19', 'activeoct19', 'activenov19', 'activedec19',\n",
      "       'activejan20', 'activefeb20', 'activemar20', 'activeapr20',\n",
      "       'activemay20', 'activejun20', 'activejul20', 'activeaug20',\n",
      "       'activesep20', 'activeoct20', 'activenov20', 'activedec20',\n",
      "       'activejan21', 'activefeb21', 'activemar21', 'activeapr21',\n",
      "       'activemay21', 'activejun21', 'activejul21', 'activeaug21',\n",
      "       'activesep21', 'activeoct21', 'activenov21', 'activedec21',\n",
      "       'activejan22', 'activefeb22', 'activemar22', 'activeapr22',\n",
      "       'activemay22', 'activejun22', 'mdaug19', 'mdsep19', 'mdoct19',\n",
      "       'mdnov19', 'mddec19', 'mdjan20', 'mdfeb20', 'mdmar20', 'mdapr20',\n",
      "       'mdmay20', 'mdjun20', 'mdjul20', 'mdaug20', 'mdsep20', 'mdoct20',\n",
      "       'mdnov20', 'mddec20', 'mdjan21', 'mdfeb21', 'mdmar21', 'mdapr21',\n",
      "       'mdmay21', 'mdjun21', 'mdjul21', 'mdaug21', 'mdsep21', 'mdoct21',\n",
      "       'mdnov21', 'mddec21', 'mdjan22', 'mdfeb22', 'mdmar22', 'mdapr22',\n",
      "       'mdmay22', 'mdjun22'],\n",
      "      dtype='object')\n"
     ]
    }
   ],
   "source": [
    "## print the features of cbsas\n",
    "print(cbsas.columns)\n"
   ]
  },
  {
   "cell_type": "code",
   "execution_count": 7,
   "metadata": {},
   "outputs": [
    {
     "name": "stdout",
     "output_type": "stream",
     "text": [
      "Index(['city_id', 'city', 'state_abbrev', 'pop_18over_2020', 'activeaug19',\n",
      "       'activesep19', 'activeoct19', 'activenov19', 'activedec19',\n",
      "       'activejan20', 'activefeb20', 'activemar20', 'activeapr20',\n",
      "       'activemay20', 'activejun20', 'activejul20', 'activeaug20',\n",
      "       'activesep20', 'activeoct20', 'activenov20', 'activedec20',\n",
      "       'activejan21', 'activefeb21', 'activemar21', 'activeapr21',\n",
      "       'activemay21', 'activejun21', 'activejul21', 'activeaug21',\n",
      "       'activesep21', 'activeoct21', 'activenov21', 'activedec21',\n",
      "       'activejan22', 'activefeb22', 'activemar22', 'activeapr22',\n",
      "       'activemay22', 'activejun22', 'mdaug19', 'mdsep19', 'mdoct19',\n",
      "       'mdnov19', 'mddec19', 'mdjan20', 'mdfeb20', 'mdmar20', 'mdapr20',\n",
      "       'mdmay20', 'mdjun20', 'mdjul20', 'mdaug20', 'mdsep20', 'mdoct20',\n",
      "       'mdnov20', 'mddec20', 'mdjan21', 'mdfeb21', 'mdmar21', 'mdapr21',\n",
      "       'mdmay21', 'mdjun21', 'mdjul21', 'mdaug21', 'mdsep21', 'mdoct21',\n",
      "       'mdnov21', 'mddec21', 'mdjan22', 'mdfeb22', 'mdmar22', 'mdapr22',\n",
      "       'mdmay22', 'mdjun22'],\n",
      "      dtype='object')\n"
     ]
    }
   ],
   "source": [
    "## print the features of cities\n",
    "print(cities.columns)"
   ]
  },
  {
   "cell_type": "code",
   "execution_count": 8,
   "metadata": {},
   "outputs": [
    {
     "name": "stdout",
     "output_type": "stream",
     "text": [
      "Index(['cfips', 'county', 'state', 'total_pop_20', 'activeaug19',\n",
      "       'activesep19', 'activeoct19', 'activenov19', 'activedec19',\n",
      "       'activejan20', 'activefeb20', 'activemar20', 'activeapr20',\n",
      "       'activemay20', 'activejun20', 'activejul20', 'activeaug20',\n",
      "       'activesep20', 'activeoct20', 'activenov20', 'activedec20',\n",
      "       'activejan21', 'activefeb21', 'activemar21', 'activeapr21',\n",
      "       'activemay21', 'activejun21', 'activejul21', 'activeaug21',\n",
      "       'activesep21', 'activeoct21', 'activenov21', 'activedec21',\n",
      "       'activejan22', 'activefeb22', 'activemar22', 'activeapr22',\n",
      "       'activemay22', 'activejun22', 'mdaug19', 'mdsep19', 'mdoct19',\n",
      "       'mdnov19', 'mddec19', 'mdjan20', 'mdfeb20', 'mdmar20', 'mdapr20',\n",
      "       'mdmay20', 'mdjun20', 'mdjul20', 'mdaug20', 'mdsep20', 'mdoct20',\n",
      "       'mdnov20', 'mddec20', 'mdjan21', 'mdfeb21', 'mdmar21', 'mdapr21',\n",
      "       'mdmay21', 'mdjun21', 'mdjul21', 'mdaug21', 'mdsep21', 'mdoct21',\n",
      "       'mdnov21', 'mddec21', 'mdjan22', 'mdfeb22', 'mdmar22', 'mdapr22',\n",
      "       'mdmay22', 'mdjun22'],\n",
      "      dtype='object')\n"
     ]
    }
   ],
   "source": [
    "## print the features of counties\n",
    "print(counties.columns)"
   ]
  },
  {
   "cell_type": "code",
   "execution_count": 9,
   "metadata": {},
   "outputs": [
    {
     "name": "stdout",
     "output_type": "stream",
     "text": [
      "Index(['state_abbrev', 'fips', 'total_pop_20', 'activeaug19', 'activesep19',\n",
      "       'activeoct19', 'activenov19', 'activedec19', 'activejan20',\n",
      "       'activefeb20', 'activemar20', 'activeapr20', 'activemay20',\n",
      "       'activejun20', 'activejul20', 'activeaug20', 'activesep20',\n",
      "       'activeoct20', 'activenov20', 'activedec20', 'activejan21',\n",
      "       'activefeb21', 'activemar21', 'activeapr21', 'activemay21',\n",
      "       'activejun21', 'activejul21', 'activeaug21', 'activesep21',\n",
      "       'activeoct21', 'activenov21', 'activedec21', 'activejan22',\n",
      "       'activefeb22', 'activemar22', 'activeapr22', 'activemay22',\n",
      "       'activejun22', 'mdaug19', 'mdsep19', 'mdoct19', 'mdnov19', 'mddec19',\n",
      "       'mdjan20', 'mdfeb20', 'mdmar20', 'mdapr20', 'mdmay20', 'mdjun20',\n",
      "       'mdjul20', 'mdaug20', 'mdsep20', 'mdoct20', 'mdnov20', 'mddec20',\n",
      "       'mdjan21', 'mdfeb21', 'mdmar21', 'mdapr21', 'mdmay21', 'mdjun21',\n",
      "       'mdjul21', 'mdaug21', 'mdsep21', 'mdoct21', 'mdnov21', 'mddec21',\n",
      "       'mdjan22', 'mdfeb22', 'mdmar22', 'mdapr22', 'mdmay22', 'mdjun22'],\n",
      "      dtype='object')\n"
     ]
    }
   ],
   "source": [
    "## print the features of states\n",
    "print(states.columns)"
   ]
  },
  {
   "cell_type": "code",
   "execution_count": null,
   "metadata": {},
   "outputs": [],
   "source": []
  }
 ],
 "metadata": {
  "kernelspec": {
   "display_name": "Python 3",
   "language": "python",
   "name": "python3"
  },
  "language_info": {
   "codemirror_mode": {
    "name": "ipython",
    "version": 3
   },
   "file_extension": ".py",
   "mimetype": "text/x-python",
   "name": "python",
   "nbconvert_exporter": "python",
   "pygments_lexer": "ipython3",
   "version": "3.11.1"
  },
  "orig_nbformat": 4,
  "vscode": {
   "interpreter": {
    "hash": "8b8edaa195e148f815789564e9a10f57d8b792ac9e1a5daafce5fbae42bebd0e"
   }
  }
 },
 "nbformat": 4,
 "nbformat_minor": 2
}
